{
 "cells": [
  {
   "cell_type": "markdown",
   "metadata": {},
   "source": [
    "# Analysis of GitHub Starred Repositories\n",
    "\n",
    "## Team Tough Scrape\n",
    "\n",
    "### Jeff Roeder and Sean Oslin"
   ]
  },
  {
   "cell_type": "code",
   "execution_count": 2,
   "metadata": {},
   "outputs": [],
   "source": [
    "import warnings\n",
    "warnings.filterwarnings('ignore')\n",
    "\n",
    "import pandas as pd\n",
    "import numpy as np\n",
    "from bs4 import BeautifulSoup\n",
    "import re\n",
    "from requests import get\n",
    "import time\n",
    "import pickle\n",
    "import os\n",
    "import json\n",
    "from typing import Dict, List\n",
    "import requests\n",
    "import pprint\n",
    "%matplotlib inline\n",
    "import matplotlib.pyplot as plt\n",
    "import seaborn as sns\n",
    "from wordcloud import WordCloud\n",
    "\n",
    "\n",
    "\n",
    "import unicodedata\n",
    "import nltk\n",
    "from nltk.tokenize.toktok import ToktokTokenizer\n",
    "from nltk.corpus import stopwords\n",
    "from sklearn.model_selection import train_test_split\n",
    "from sklearn.linear_model import LogisticRegression\n",
    "from sklearn.metrics import classification_report, accuracy_score\n",
    "from sklearn.feature_extraction.text import TfidfVectorizer\n",
    "from sklearn.ensemble import RandomForestClassifier\n",
    "from sklearn.datasets import make_classification\n",
    "\n",
    "\n",
    "import prep\n",
    "from env import github_token"
   ]
  },
  {
   "cell_type": "markdown",
   "metadata": {},
   "source": [
    "## Planning\n",
    "\n",
    "Create a short workplan and divied up tasks based on interests and skills.\n",
    "\n",
    "While were were only required to pull 100 GitHub repositories, we selected 220 to allow for shrinkage in our sample for anticipated technical challenges (e.g. new or abandoned repos with only small amounts of data in ReadMe."
   ]
  },
  {
   "cell_type": "markdown",
   "metadata": {},
   "source": [
    "## Acquire \n",
    "\n",
    "Acuired most starred repos using BeautifulSoup to scrape repo links from the first 22 pages. Then used the Github API to pull the README.md files for each repo."
   ]
  },
  {
   "cell_type": "code",
   "execution_count": 3,
   "metadata": {},
   "outputs": [],
   "source": [
    "#grabs list of repo names from most starred repo pages.\n",
    "def get_urls(start_page,stop_page):\n",
    "    pages = list(range(start_page,stop_page+1))\n",
    "    page_urls = []\n",
    "    for page in pages:\n",
    "        p = f'https://github.com/search?o=desc&p={page}&q=stars%3A%3E1&s=stars&type=Repositories'\n",
    "        page_urls.append(p)\n",
    "\n",
    "    repo_links_all = []\n",
    "    time.sleep(3)\n",
    "    for page in page_urls:\n",
    "        url = page\n",
    "        headers  = {'User-Agent' : 'Codeup Data Science Student'} #user-agent to decrease chance of being rejected by github\n",
    "        response = get(url,headers)\n",
    "        soup = BeautifulSoup(response.text) #created a BS object\n",
    "        repo_list = soup.find('ul', class_='repo-list') #find section of text of interest\n",
    "        links = repo_list.find_all(href = True) #isolate the 'href's \n",
    "        repo_links= [link['href'] for link in links if not re.match(r'^/topics',link['href']) and not re.match(r'^https',link['href'])\\\n",
    "                 and link['href'].count('/') < 3] #further pare down list by excluding anything that begins with /topics, https or more than 2 forward slashes\n",
    "        repo_links_all.extend(repo_links)\n",
    "    repo_links_all = [url[1:] for url in repo_links_all]\n",
    "    time.sleep(2)\n",
    "    return repo_links_all"
   ]
  },
  {
   "cell_type": "markdown",
   "metadata": {},
   "source": [
    "We had problems scraping the website with the rest of the class also pinging the Github servers so we decided to save our urls and READMEs as files to be accessed locally"
   ]
  },
  {
   "cell_type": "code",
   "execution_count": 4,
   "metadata": {},
   "outputs": [],
   "source": [
    "with open ('urls', 'rb') as fp:\n",
    "    urls = pickle.load(fp)"
   ]
  },
  {
   "cell_type": "code",
   "execution_count": 5,
   "metadata": {},
   "outputs": [
    {
     "data": {
      "text/html": [
       "<div>\n",
       "<style scoped>\n",
       "    .dataframe tbody tr th:only-of-type {\n",
       "        vertical-align: middle;\n",
       "    }\n",
       "\n",
       "    .dataframe tbody tr th {\n",
       "        vertical-align: top;\n",
       "    }\n",
       "\n",
       "    .dataframe thead th {\n",
       "        text-align: right;\n",
       "    }\n",
       "</style>\n",
       "<table border=\"1\" class=\"dataframe\">\n",
       "  <thead>\n",
       "    <tr style=\"text-align: right;\">\n",
       "      <th></th>\n",
       "      <th>language</th>\n",
       "      <th>readme_contents</th>\n",
       "      <th>repo</th>\n",
       "    </tr>\n",
       "  </thead>\n",
       "  <tbody>\n",
       "    <tr>\n",
       "      <th>0</th>\n",
       "      <td>JavaScript</td>\n",
       "      <td>![freeCodeCamp.org Social Banner](https://s3.a...</td>\n",
       "      <td>freeCodeCamp/freeCodeCamp</td>\n",
       "    </tr>\n",
       "    <tr>\n",
       "      <th>1</th>\n",
       "      <td>Rust</td>\n",
       "      <td>[996.ICU](https://996.icu/#/en_US)\\n=======\\n*...</td>\n",
       "      <td>996icu/996.ICU</td>\n",
       "    </tr>\n",
       "  </tbody>\n",
       "</table>\n",
       "</div>"
      ],
      "text/plain": [
       "     language                                    readme_contents  \\\n",
       "0  JavaScript  ![freeCodeCamp.org Social Banner](https://s3.a...   \n",
       "1        Rust  [996.ICU](https://996.icu/#/en_US)\\n=======\\n*...   \n",
       "\n",
       "                        repo  \n",
       "0  freeCodeCamp/freeCodeCamp  \n",
       "1             996icu/996.ICU  "
      ]
     },
     "execution_count": 5,
     "metadata": {},
     "output_type": "execute_result"
    }
   ],
   "source": [
    "original = pd.read_json('data.json')\n",
    "original.head(2)"
   ]
  },
  {
   "cell_type": "markdown",
   "metadata": {},
   "source": [
    "### Initial Exploration\n",
    "\n",
    "We pulled 220 initial README files and grouped by the language. 32 had no language type and were dropped. After further discussion we decided to only work on classifying the top 5 most common languages of our data."
   ]
  },
  {
   "cell_type": "code",
   "execution_count": 6,
   "metadata": {},
   "outputs": [
    {
     "name": "stdout",
     "output_type": "stream",
     "text": [
      "language\n",
      "JavaScript    72\n",
      "Python        25\n",
      "Java          17\n",
      "C++           12\n",
      "Go            12\n",
      "TypeScript     9\n",
      "CSS            5\n",
      "C              4\n",
      "Name: repo, dtype: int64\n"
     ]
    }
   ],
   "source": [
    "pprint.pprint(original.groupby('language')['repo'].count().sort_values(ascending=False).head(8))"
   ]
  },
  {
   "cell_type": "code",
   "execution_count": 14,
   "metadata": {},
   "outputs": [
    {
     "name": "stdout",
     "output_type": "stream",
     "text": [
      "Distribution of top 5 most common languages in dataset\n"
     ]
    },
    {
     "data": {
      "image/png": "[encoded data removed]",
      "text/plain": [
       "<Figure size 432x288 with 1 Axes>"
      ]
     },
     "metadata": {},
     "output_type": "display_data"
    }
   ],
   "source": [
    "df3 = original.groupby('language').count().sort_values(by = 'repo',ascending=False).head()\n",
    "df3['language2'] = df3.index\n",
    "sns.set(style=\"whitegrid\")\n",
    "ax = sns.barplot(x=\"language2\", y=\"readme_contents\", data=df3)\n",
    "print(\"Distribution of top 5 most common languages in dataset\")"
   ]
  },
  {
   "cell_type": "markdown",
   "metadata": {},
   "source": [
    "### Data Prep\n",
    "\n",
    "Prepared data with cleaned data (lower case, only ascii, and no special characters), stemmed, and lemmatized"
   ]
  },
  {
   "cell_type": "code",
   "execution_count": null,
   "metadata": {},
   "outputs": [],
   "source": [
    "df = prep.prep_urls(original)"
   ]
  },
  {
   "cell_type": "code",
   "execution_count": null,
   "metadata": {},
   "outputs": [],
   "source": [
    "df.head(2)"
   ]
  },
  {
   "cell_type": "markdown",
   "metadata": {},
   "source": [
    "- set the index to the repo name. \n",
    "- Only look at the top 5 most common languages\n",
    "- Dropped readme_contents column"
   ]
  },
  {
   "cell_type": "code",
   "execution_count": null,
   "metadata": {},
   "outputs": [],
   "source": [
    "df.set_index('repo',inplace=True)\n",
    "languages = ['JavaScript','Python','Java','C++','Go']\n",
    "df = df[df.language.isin(languages)]\n",
    "df.drop(columns='readme_contents')\n",
    "df.head(2)"
   ]
  },
  {
   "cell_type": "markdown",
   "metadata": {},
   "source": [
    "# Jeff, check notes above. Is this statement correct? 32 repos had no listed language and were dropped from our dataset leaving us with a dataset of 138 repos."
   ]
  },
  {
   "cell_type": "code",
   "execution_count": null,
   "metadata": {},
   "outputs": [],
   "source": [
    "df_nulls = df[df.language.isnull()]\n",
    "df = df.dropna(axis=0)"
   ]
  },
  {
   "cell_type": "code",
   "execution_count": null,
   "metadata": {},
   "outputs": [],
   "source": [
    "df.shape"
   ]
  },
  {
   "cell_type": "code",
   "execution_count": null,
   "metadata": {},
   "outputs": [],
   "source": [
    "corpus_complete = df.clean.sum() #corpus is one big string"
   ]
  },
  {
   "cell_type": "code",
   "execution_count": null,
   "metadata": {},
   "outputs": [],
   "source": [
    "javascript_corpus = df[df.language == \"JavaScript\"].clean.sum()"
   ]
  },
  {
   "cell_type": "code",
   "execution_count": null,
   "metadata": {},
   "outputs": [],
   "source": [
    "java_corpus = df[df.language == \"Java\"].clean.sum()"
   ]
  },
  {
   "cell_type": "code",
   "execution_count": null,
   "metadata": {},
   "outputs": [],
   "source": [
    "python_corpus = df[df.language == \"Python\"].clean.sum()"
   ]
  },
  {
   "cell_type": "code",
   "execution_count": null,
   "metadata": {},
   "outputs": [],
   "source": [
    "c_double_plus_corpus = df[df.language == \"C++\"].clean.sum()"
   ]
  },
  {
   "cell_type": "code",
   "execution_count": null,
   "metadata": {},
   "outputs": [],
   "source": [
    "go_corpus = df[df.language == \"Go\"].clean.sum()"
   ]
  },
  {
   "cell_type": "code",
   "execution_count": null,
   "metadata": {},
   "outputs": [],
   "source": [
    "total_corpus = df.clean.sum()\n",
    "total_corpus"
   ]
  },
  {
   "cell_type": "markdown",
   "metadata": {},
   "source": [
    "### Exploration\n",
    "\n",
    "#### Corpora for all combinations of text used (after cleaning)"
   ]
  },
  {
   "cell_type": "markdown",
   "metadata": {},
   "source": [
    "Complete words in the corpus. Words included in the following language corpora: Javascript, Python, C++, Go and Java. Combined corpus for the 5 languages."
   ]
  },
  {
   "cell_type": "code",
   "execution_count": null,
   "metadata": {},
   "outputs": [],
   "source": [
    "complete_words = corpus_complete.split()\n",
    "javascript_words = javascript_corpus.split()\n",
    "python_words = python_corpus.split()\n",
    "c_double_plus_words = c_double_plus_corpus.split()\n",
    "go_words = go_corpus.split()\n",
    "java_words = java_corpus.split()\n",
    "total_words = javascript_words + python_words + c_double_plus_words + go_words + java_words"
   ]
  },
  {
   "cell_type": "markdown",
   "metadata": {},
   "source": [
    "#### Wordclouds for each of the used corpora."
   ]
  },
  {
   "cell_type": "code",
   "execution_count": null,
   "metadata": {},
   "outputs": [],
   "source": [
    "wordcloud = WordCloud(width = 800, height = 800, background_color ='white', stopwords = stopwords.words('english'), min_font_size = 10).generate(javascript_corpus)\n",
    "img = WordCloud(background_color='white').generate(javascript_corpus)\n",
    "# WordCloud() produces an image object, which can be displayed with plt.imshow\n",
    "plt.imshow(img)\n",
    "# axis aren't very useful for a word cloud\n",
    "plt.axis('off')"
   ]
  },
  {
   "cell_type": "code",
   "execution_count": null,
   "metadata": {},
   "outputs": [],
   "source": [
    "wordcloud = WordCloud(width = 800, height = 800, background_color ='white', stopwords = stopwords.words('english'), min_font_size = 10).generate(python_corpus)\n",
    "img = WordCloud(background_color='white').generate(python_corpus)\n",
    "# WordCloud() produces an image object, which can be displayed with plt.imshow\n",
    "plt.imshow(img)\n",
    "# axis aren't very useful for a word cloud\n",
    "plt.axis('off')"
   ]
  },
  {
   "cell_type": "code",
   "execution_count": null,
   "metadata": {},
   "outputs": [],
   "source": [
    "wordcloud = WordCloud(width = 800, height = 800, background_color ='white', stopwords = stopwords.words('english'), min_font_size = 10).generate(c_double_plus_corpus)\n",
    "img = WordCloud(background_color='white').generate(c_double_plus_corpus)\n",
    "# WordCloud() produces an image object, which can be displayed with plt.imshow\n",
    "plt.imshow(img)\n",
    "# axis aren't very useful for a word cloud\n",
    "plt.axis('off')"
   ]
  },
  {
   "cell_type": "code",
   "execution_count": null,
   "metadata": {},
   "outputs": [],
   "source": [
    "wordcloud = WordCloud(width = 800, height = 800, background_color ='white', stopwords = stopwords.words('english'), min_font_size = 10).generate(java_corpus)\n",
    "img = WordCloud(background_color='white').generate(java_corpus)\n",
    "# WordCloud() produces an image object, which can be displayed with plt.imshow\n",
    "plt.imshow(img)\n",
    "# axis aren't very useful for a word cloud\n",
    "plt.axis('off')"
   ]
  },
  {
   "cell_type": "code",
   "execution_count": null,
   "metadata": {},
   "outputs": [],
   "source": [
    "wordcloud = WordCloud(width = 800, height = 800, background_color ='white', stopwords = stopwords.words('english'), min_font_size = 10).generate(go_corpus)\n",
    "img = WordCloud(background_color='white').generate(go_corpus)\n",
    "# WordCloud() produces an image object, which can be displayed with plt.imshow\n",
    "plt.imshow(img)\n",
    "# axis aren't very useful for a word cloud\n",
    "plt.axis('off')"
   ]
  },
  {
   "cell_type": "code",
   "execution_count": null,
   "metadata": {},
   "outputs": [],
   "source": [
    "wordcloud = WordCloud(width = 800, height = 800, background_color ='white', stopwords = stopwords.words('english'), min_font_size = 10).generate(total_corpus)\n",
    "img = WordCloud(background_color='white').generate(total_corpus)\n",
    "# WordCloud() produces an image object, which can be displayed with plt.imshow\n",
    "plt.imshow(img)\n",
    "# axis aren't very useful for a word cloud\n",
    "plt.axis('off')"
   ]
  },
  {
   "cell_type": "markdown",
   "metadata": {},
   "source": [
    "### Analysis of word frequency"
   ]
  },
  {
   "cell_type": "code",
   "execution_count": null,
   "metadata": {},
   "outputs": [],
   "source": [
    "corpus_complete_freq = pd.Series(complete_words).value_counts()\n",
    "javascript_corpus_freq = pd.Series(javascript_words).value_counts()\n",
    "python_freq = pd.Series(python_words).value_counts()\n",
    "c_double_plus_freq = pd.Series(c_double_plus_words).value_counts()\n",
    "java_freq = pd.Series(java_words).value_counts()\n",
    "go_freq = pd.Series(go_words).value_counts()\n",
    "total_freq = pd.Series(total_words).value_counts()"
   ]
  },
  {
   "cell_type": "markdown",
   "metadata": {},
   "source": [
    "### Total for words present in Total Corpus"
   ]
  },
  {
   "cell_type": "code",
   "execution_count": null,
   "metadata": {},
   "outputs": [],
   "source": [
    "word_counts = (pd.concat([total_freq, javascript_corpus_freq, python_freq, java_freq, c_double_plus_freq, go_freq], axis=1, sort=True)\n",
    "                .set_axis(['Total', 'JavaScript', 'Python', 'Java', 'C++', 'Go'], axis=1, inplace=False)\n",
    "                .fillna(0)\n",
    "                .apply(lambda s: s.astype(int)))\n",
    "\n",
    "word_counts = word_counts.sort_values(by = 'Total', ascending = False)\n",
    "word_counts['word'] = word_counts.index\n",
    "word_counts.head()"
   ]
  },
  {
   "cell_type": "markdown",
   "metadata": {},
   "source": [
    "### Percent of total for words present in Total Corpus "
   ]
  },
  {
   "cell_type": "code",
   "execution_count": null,
   "metadata": {},
   "outputs": [],
   "source": [
    "word_counts['perc'] = word_counts['Total']/len(word_counts)\n",
    "word_counts.head()"
   ]
  },
  {
   "cell_type": "markdown",
   "metadata": {},
   "source": [
    "# Code and graphs for IDF to go here - I need help from Ryan to fix the code"
   ]
  },
  {
   "cell_type": "markdown",
   "metadata": {},
   "source": [
    "### Beating the Baseline\n",
    "\n",
    "#### Logistic Regression\n",
    "\n",
    "Baseline model attempting to beat highest % language occurance (Javascript 52%). Uses Logistic regression to classify each programming language based on the content of the cleaned corpus words."
   ]
  },
  {
   "cell_type": "code",
   "execution_count": null,
   "metadata": {},
   "outputs": [],
   "source": [
    "df = df[['clean','language']]\n",
    "df.rename(columns={'clean':'body'},inplace=True)"
   ]
  },
  {
   "cell_type": "code",
   "execution_count": null,
   "metadata": {},
   "outputs": [],
   "source": [
    "tfidf = TfidfVectorizer()\n",
    "X = tfidfs = tfidf.fit_transform(df.body)\n",
    "y = df.language"
   ]
  },
  {
   "cell_type": "code",
   "execution_count": null,
   "metadata": {},
   "outputs": [],
   "source": [
    "X_train,X_test,y_train,y_test = train_test_split(X,y,stratify=y,test_size=.3)"
   ]
  },
  {
   "cell_type": "code",
   "execution_count": null,
   "metadata": {},
   "outputs": [],
   "source": [
    "train = pd.DataFrame(dict(actual=y_train))\n",
    "test = pd.DataFrame(dict(actual=y_test))\n",
    "\n",
    "lm = LogisticRegression().fit(X_train,y_train)"
   ]
  },
  {
   "cell_type": "code",
   "execution_count": null,
   "metadata": {},
   "outputs": [],
   "source": [
    "train['predicted_LR'] = lm.predict(X_train)\n",
    "test['predicted_LR'] = lm.predict(X_test)"
   ]
  },
  {
   "cell_type": "code",
   "execution_count": null,
   "metadata": {},
   "outputs": [],
   "source": [
    "print(\"The train set predicted: \",round(sum(train.actual == train.predicted_LR)/len(train)*100),\"%\")\n",
    "print(\"This was 7% better than the baseline of picking the most common language\")"
   ]
  },
  {
   "cell_type": "code",
   "execution_count": null,
   "metadata": {},
   "outputs": [],
   "source": [
    "print(\"The test set predicted: \",round(sum(test.actual == test.predicted_LR)/len(test)*100),\"%\")\n",
    "print(\"This was 0% better than the baseline of picking the most common language\")"
   ]
  },
  {
   "cell_type": "markdown",
   "metadata": {},
   "source": [
    "#### Random Forest Classifer\n",
    "\n",
    "After this Logistic regression showed only a slight improvement on the test data a RF classifier was chosen to try to improve performance. Using a max depth of 3 we saw improvements on the train and test data. "
   ]
  },
  {
   "cell_type": "code",
   "execution_count": null,
   "metadata": {},
   "outputs": [],
   "source": [
    "clf = RandomForestClassifier(max_depth = 3,random_state=123)\n",
    "clf.fit(X_train,y_train)"
   ]
  },
  {
   "cell_type": "code",
   "execution_count": null,
   "metadata": {},
   "outputs": [],
   "source": [
    "train['predicted_RFC'] = clf.predict(X_train)\n",
    "test['predicted_RFC'] = clf.predict(X_test)"
   ]
  },
  {
   "cell_type": "code",
   "execution_count": null,
   "metadata": {},
   "outputs": [],
   "source": [
    "print(\"The train set predicted: \",round(sum(train.actual == train.predicted_RFC)/len(train)*100),\"%\")\n",
    "print(\"This was 9% better than the baseline of picking the most common language\")"
   ]
  },
  {
   "cell_type": "code",
   "execution_count": null,
   "metadata": {},
   "outputs": [],
   "source": [
    "print(\"The test set predicted: \",round(sum(test.actual == test.predicted_RFC)/len(test)*100),\"%\")\n",
    "print(\"This was 3% better than the baseline of picking the most common language\")"
   ]
  },
  {
   "cell_type": "code",
   "execution_count": null,
   "metadata": {},
   "outputs": [],
   "source": [
    "#prediction of likelihood a corpus belongs to each language\n",
    "preds = clf.predict_proba(X_train)\n",
    "preds = pd.DataFrame(preds,columns=clf.classes_)\n",
    "preds = preds.round(2)\n",
    "train = train.reset_index()"
   ]
  },
  {
   "cell_type": "code",
   "execution_count": null,
   "metadata": {},
   "outputs": [],
   "source": [
    "train = pd.concat([train,preds],axis=1)"
   ]
  },
  {
   "cell_type": "code",
   "execution_count": null,
   "metadata": {},
   "outputs": [],
   "source": [
    "train.set_index('repo',inplace=True)\n",
    "train.head(15)"
   ]
  },
  {
   "cell_type": "code",
   "execution_count": null,
   "metadata": {},
   "outputs": [],
   "source": []
  }
 ],
 "metadata": {
  "kernelspec": {
   "display_name": "Python 3",
   "language": "python",
   "name": "python3"
  },
  "language_info": {
   "codemirror_mode": {
    "name": "ipython",
    "version": 3
   },
   "file_extension": ".py",
   "mimetype": "text/x-python",
   "name": "python",
   "nbconvert_exporter": "python",
   "pygments_lexer": "ipython3",
   "version": "3.7.3"
  }
 },
 "nbformat": 4,
 "nbformat_minor": 2
}
