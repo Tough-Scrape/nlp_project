{
 "cells": [
  {
   "cell_type": "code",
   "execution_count": 1,
   "metadata": {},
   "outputs": [],
   "source": [
    "import pandas as pd\n",
    "import numpy as np\n",
    "from bs4 import BeautifulSoup\n",
    "import re\n",
    "from requests import get"
   ]
  },
  {
   "cell_type": "code",
   "execution_count": 69,
   "metadata": {},
   "outputs": [],
   "source": [
    "url = 'https://github.com/search?o=desc&p=1&q=stars%3A%3E1&s=stars&type=Repositories'\n",
    "headers = {'User-Agent': \"Codeup Data Science Student\"}\n",
    "response = get(url,headers)"
   ]
  },
  {
   "cell_type": "code",
   "execution_count": 70,
   "metadata": {},
   "outputs": [],
   "source": [
    "soup = BeautifulSoup(response.text)"
   ]
  },
  {
   "cell_type": "code",
   "execution_count": 71,
   "metadata": {},
   "outputs": [],
   "source": [
    "repo_list = soup.find('ul',class_='repo-list')"
   ]
  },
  {
   "cell_type": "code",
   "execution_count": 108,
   "metadata": {},
   "outputs": [],
   "source": [
    "links = repo_list.find_all(href=True)"
   ]
  },
  {
   "cell_type": "code",
   "execution_count": 109,
   "metadata": {},
   "outputs": [
    {
     "data": {
      "text/plain": [
       "'/freeCodeCamp/freeCodeCamp'"
      ]
     },
     "execution_count": 109,
     "metadata": {},
     "output_type": "execute_result"
    }
   ],
   "source": [
    "links[0]['href']"
   ]
  },
  {
   "cell_type": "code",
   "execution_count": 91,
   "metadata": {},
   "outputs": [],
   "source": [
    "test = links[0:5]"
   ]
  },
  {
   "cell_type": "code",
   "execution_count": 96,
   "metadata": {},
   "outputs": [
    {
     "name": "stdout",
     "output_type": "stream",
     "text": [
      "/freeCodeCamp/freeCodeCamp\n",
      "https://www.freeCodeCamp.org\n",
      "/topics/certification\n",
      "/topics/curriculum\n",
      "/topics/react\n",
      "/topics/nodejs\n",
      "/topics/javascript\n",
      "/topics/d3\n",
      "/topics/teachers\n",
      "/topics/community\n",
      "/topics/education\n",
      "/topics/programming\n",
      "/topics/math\n",
      "/topics/learn-to-code\n",
      "/topics/nonprofits\n",
      "/topics/careers\n",
      "/freeCodeCamp/freeCodeCamp/stargazers\n",
      "/freeCodeCamp/freeCodeCamp/issues?q=label%3A%22help+wanted%22+is%3Aissue+is%3Aopen\n",
      "/996icu/996.ICU\n",
      "/996icu/996.ICU/stargazers\n",
      "/vuejs/vue\n",
      "/topics/vue\n",
      "/topics/javascript\n",
      "/topics/framework\n",
      "/topics/frontend\n",
      "/vuejs/vue/stargazers\n",
      "/vuejs/vue/issues?q=label%3A%22help+wanted%22+is%3Aissue+is%3Aopen\n",
      "/facebook/react\n",
      "/topics/react\n",
      "/topics/javascript\n",
      "/topics/library\n",
      "/topics/ui\n",
      "/topics/frontend\n",
      "/topics/declarative\n",
      "/facebook/react/stargazers\n",
      "/facebook/react/issues?q=label%3A%22good+first+issue%22+is%3Aissue+is%3Aopen\n",
      "/tensorflow/tensorflow\n",
      "/topics/tensorflow\n",
      "/topics/machine-learning\n",
      "/topics/python\n",
      "/topics/deep-neural-networks\n",
      "/topics/deep-learning\n",
      "/topics/neural-network\n",
      "/topics/ml\n",
      "/topics/distributed\n",
      "/tensorflow/tensorflow/stargazers\n",
      "/tensorflow/tensorflow/issues?q=label%3A%22good+first+issue%22+is%3Aissue+is%3Aopen\n",
      "/twbs/bootstrap\n",
      "/topics/html\n",
      "/topics/bootstrap\n",
      "/topics/javascript\n",
      "/topics/css\n",
      "/topics/sass\n",
      "/topics/scss\n",
      "/topics/css-framework\n",
      "/twbs/bootstrap/stargazers\n",
      "/twbs/bootstrap/issues?q=label%3A%22help+wanted%22+is%3Aissue+is%3Aopen\n",
      "/EbookFoundation/free-programming-books\n",
      "/topics/education\n",
      "/topics/list\n",
      "/topics/books\n",
      "/topics/resource\n",
      "/EbookFoundation/free-programming-books/stargazers\n",
      "/EbookFoundation/free-programming-books/issues?q=label%3A%22help+wanted%22+is%3Aissue+is%3Aopen\n",
      "/sindresorhus/awesome\n",
      "/topics/lists\n",
      "/topics/awesome\n",
      "/topics/unicorns\n",
      "/topics/resources\n",
      "/topics/awesome-list\n",
      "/sindresorhus/awesome/stargazers\n",
      "/sindresorhus/awesome/issues?q=label%3A%22help+wanted%22+is%3Aissue+is%3Aopen\n",
      "/getify/You-Dont-Know-JS\n",
      "https://github.com/YDKJS\n",
      "/topics/book-series\n",
      "/topics/javascript\n",
      "/topics/async\n",
      "/topics/training-materials\n",
      "/topics/education\n",
      "/topics/programming\n",
      "/topics/es6\n",
      "/topics/book\n",
      "/topics/es2015\n",
      "/topics/learn-to-code\n",
      "/topics/training-providers\n",
      "/topics/closures\n",
      "/topics/prototypes\n",
      "/getify/You-Dont-Know-JS/stargazers\n",
      "/ohmyzsh/ohmyzsh\n",
      "/topics/theme\n",
      "/topics/zsh-configuration\n",
      "/topics/shell\n",
      "/topics/productivity\n",
      "/topics/terminal\n",
      "/ohmyzsh/ohmyzsh/stargazers\n",
      "/ohmyzsh/ohmyzsh/issues?q=label%3A%22Good+first+issue%22+is%3Aissue+is%3Aopen\n"
     ]
    }
   ],
   "source": [
    "for index,w in enumerate(links):\n",
    "    print(links[index]['href'])"
   ]
  },
  {
   "cell_type": "code",
   "execution_count": 78,
   "metadata": {},
   "outputs": [
    {
     "ename": "KeyError",
     "evalue": "'href'",
     "output_type": "error",
     "traceback": [
      "\u001b[0;31m---------------------------------------------------------------------------\u001b[0m",
      "\u001b[0;31mKeyError\u001b[0m                                  Traceback (most recent call last)",
      "\u001b[0;32m<ipython-input-78-e62b99090e4d>\u001b[0m in \u001b[0;36m<module>\u001b[0;34m\u001b[0m\n\u001b[0;32m----> 1\u001b[0;31m \u001b[0mrepo_list\u001b[0m\u001b[0;34m[\u001b[0m\u001b[0;34m'href'\u001b[0m\u001b[0;34m]\u001b[0m\u001b[0;34m\u001b[0m\u001b[0;34m\u001b[0m\u001b[0m\n\u001b[0m",
      "\u001b[0;32m/usr/local/anaconda3/lib/python3.7/site-packages/bs4/element.py\u001b[0m in \u001b[0;36m__getitem__\u001b[0;34m(self, key)\u001b[0m\n\u001b[1;32m   1014\u001b[0m         \"\"\"tag[key] returns the value of the 'key' attribute for the tag,\n\u001b[1;32m   1015\u001b[0m         and throws an exception if it's not there.\"\"\"\n\u001b[0;32m-> 1016\u001b[0;31m         \u001b[0;32mreturn\u001b[0m \u001b[0mself\u001b[0m\u001b[0;34m.\u001b[0m\u001b[0mattrs\u001b[0m\u001b[0;34m[\u001b[0m\u001b[0mkey\u001b[0m\u001b[0;34m]\u001b[0m\u001b[0;34m\u001b[0m\u001b[0;34m\u001b[0m\u001b[0m\n\u001b[0m\u001b[1;32m   1017\u001b[0m \u001b[0;34m\u001b[0m\u001b[0m\n\u001b[1;32m   1018\u001b[0m     \u001b[0;32mdef\u001b[0m \u001b[0m__iter__\u001b[0m\u001b[0;34m(\u001b[0m\u001b[0mself\u001b[0m\u001b[0;34m)\u001b[0m\u001b[0;34m:\u001b[0m\u001b[0;34m\u001b[0m\u001b[0;34m\u001b[0m\u001b[0m\n",
      "\u001b[0;31mKeyError\u001b[0m: 'href'"
     ]
    }
   ],
   "source": []
  },
  {
   "cell_type": "code",
   "execution_count": 103,
   "metadata": {},
   "outputs": [
    {
     "ename": "AttributeError",
     "evalue": "'NoneType' object has no attribute 'contains'",
     "output_type": "error",
     "traceback": [
      "\u001b[0;31m---------------------------------------------------------------------------\u001b[0m",
      "\u001b[0;31mAttributeError\u001b[0m                            Traceback (most recent call last)",
      "\u001b[0;32m<ipython-input-103-1d16fcd4b768>\u001b[0m in \u001b[0;36m<module>\u001b[0;34m\u001b[0m\n\u001b[0;32m----> 1\u001b[0;31m \u001b[0mtest2\u001b[0m \u001b[0;34m=\u001b[0m \u001b[0;34m[\u001b[0m\u001b[0ml\u001b[0m\u001b[0;34m.\u001b[0m\u001b[0mattrs\u001b[0m\u001b[0;34m[\u001b[0m\u001b[0;34m'href'\u001b[0m\u001b[0;34m]\u001b[0m \u001b[0;32mfor\u001b[0m \u001b[0ml\u001b[0m \u001b[0;32min\u001b[0m \u001b[0mtest\u001b[0m \u001b[0;32mif\u001b[0m \u001b[0ml\u001b[0m\u001b[0;34m.\u001b[0m\u001b[0mstr\u001b[0m\u001b[0;34m.\u001b[0m\u001b[0mcontains\u001b[0m\u001b[0;34m(\u001b[0m\u001b[0;34m\"topics\"\u001b[0m\u001b[0;34m)\u001b[0m \u001b[0;32mnot\u001b[0m \u001b[0;32min\u001b[0m \u001b[0ml\u001b[0m\u001b[0;34m]\u001b[0m\u001b[0;34m\u001b[0m\u001b[0;34m\u001b[0m\u001b[0m\n\u001b[0m",
      "\u001b[0;32m<ipython-input-103-1d16fcd4b768>\u001b[0m in \u001b[0;36m<listcomp>\u001b[0;34m(.0)\u001b[0m\n\u001b[0;32m----> 1\u001b[0;31m \u001b[0mtest2\u001b[0m \u001b[0;34m=\u001b[0m \u001b[0;34m[\u001b[0m\u001b[0ml\u001b[0m\u001b[0;34m.\u001b[0m\u001b[0mattrs\u001b[0m\u001b[0;34m[\u001b[0m\u001b[0;34m'href'\u001b[0m\u001b[0;34m]\u001b[0m \u001b[0;32mfor\u001b[0m \u001b[0ml\u001b[0m \u001b[0;32min\u001b[0m \u001b[0mtest\u001b[0m \u001b[0;32mif\u001b[0m \u001b[0ml\u001b[0m\u001b[0;34m.\u001b[0m\u001b[0mstr\u001b[0m\u001b[0;34m.\u001b[0m\u001b[0mcontains\u001b[0m\u001b[0;34m(\u001b[0m\u001b[0;34m\"topics\"\u001b[0m\u001b[0;34m)\u001b[0m \u001b[0;32mnot\u001b[0m \u001b[0;32min\u001b[0m \u001b[0ml\u001b[0m\u001b[0;34m]\u001b[0m\u001b[0;34m\u001b[0m\u001b[0;34m\u001b[0m\u001b[0m\n\u001b[0m",
      "\u001b[0;31mAttributeError\u001b[0m: 'NoneType' object has no attribute 'contains'"
     ]
    }
   ],
   "source": []
  },
  {
   "cell_type": "code",
   "execution_count": 118,
   "metadata": {},
   "outputs": [],
   "source": [
    "x = [link['href'] for link in links if not re.match(r'^/topics',link['href']) and not re.match(r'^https',link['href']) and link['href'].count('/') < 3]"
   ]
  },
  {
   "cell_type": "code",
   "execution_count": 119,
   "metadata": {},
   "outputs": [
    {
     "data": {
      "text/plain": [
       "['/freeCodeCamp/freeCodeCamp',\n",
       " '/996icu/996.ICU',\n",
       " '/vuejs/vue',\n",
       " '/facebook/react',\n",
       " '/tensorflow/tensorflow',\n",
       " '/twbs/bootstrap',\n",
       " '/EbookFoundation/free-programming-books',\n",
       " '/sindresorhus/awesome',\n",
       " '/getify/You-Dont-Know-JS',\n",
       " '/ohmyzsh/ohmyzsh']"
      ]
     },
     "execution_count": 119,
     "metadata": {},
     "output_type": "execute_result"
    }
   ],
   "source": [
    "x"
   ]
  },
  {
   "cell_type": "code",
   "execution_count": 125,
   "metadata": {},
   "outputs": [
    {
     "data": {
      "text/plain": [
       "[1, 2]"
      ]
     },
     "execution_count": 125,
     "metadata": {},
     "output_type": "execute_result"
    }
   ],
   "source": [
    "pages = list(range(1,3))\n",
    "pages"
   ]
  },
  {
   "cell_type": "code",
   "execution_count": 122,
   "metadata": {},
   "outputs": [],
   "source": [
    "url = 'https://github.com/search?o=desc&p=2&q=stars%3A%3E1&s=stars&type=Repositories'\n",
    "headers = {'User-Agent': \"Codeup Data Science Student\"}\n",
    "response = get(url,headers)\n",
    "soup = BeautifulSoup(response.text)\n",
    "repo_list = soup.find('ul',class_='repo-list')\n",
    "links = repo_list.find_all(href=True)\n",
    "repo_links = [link['href'] for link in links if not re.match(r'^/topics',link['href'])\\\n",
    "     and not re.match(r'^https',link['href'])\\\n",
    "     and link['href'].count('/') < 3]"
   ]
  },
  {
   "cell_type": "code",
   "execution_count": 123,
   "metadata": {},
   "outputs": [
    {
     "data": {
      "text/plain": [
       "['/jwasham/coding-interview-university',\n",
       " '/github/gitignore',\n",
       " '/kamranahmedse/developer-roadmap',\n",
       " '/airbnb/javascript',\n",
       " '/d3/d3',\n",
       " '/microsoft/vscode',\n",
       " '/CyC2018/CS-Notes',\n",
       " '/torvalds/linux',\n",
       " '/facebook/react-native',\n",
       " '/flutter/flutter']"
      ]
     },
     "execution_count": 123,
     "metadata": {},
     "output_type": "execute_result"
    }
   ],
   "source": [
    "repo_links"
   ]
  },
  {
   "cell_type": "code",
   "execution_count": null,
   "metadata": {},
   "outputs": [],
   "source": [
    "url = f'https://github.com/search?o=desc&p={}&q=stars%3A%3E1&s=stars&type=Repositories'\n"
   ]
  }
 ],
 "metadata": {
  "kernelspec": {
   "display_name": "Python 3",
   "language": "python",
   "name": "python3"
  },
  "language_info": {
   "codemirror_mode": {
    "name": "ipython",
    "version": 3
   },
   "file_extension": ".py",
   "mimetype": "text/x-python",
   "name": "python",
   "nbconvert_exporter": "python",
   "pygments_lexer": "ipython3",
   "version": "3.7.3"
  }
 },
 "nbformat": 4,
 "nbformat_minor": 2
}
