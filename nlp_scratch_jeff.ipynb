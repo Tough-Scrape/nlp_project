{
 "cells": [
  {
   "cell_type": "code",
   "execution_count": 1,
   "metadata": {},
   "outputs": [],
   "source": [
    "import pandas as pd\n",
    "import numpy as np\n",
    "from bs4 import BeautifulSoup\n",
    "import re\n",
    "from requests import get\n",
    "import time"
   ]
  },
  {
   "cell_type": "code",
   "execution_count": null,
   "metadata": {},
   "outputs": [],
   "source": [
    "url = 'https://github.com/search?o=desc&p=1&q=stars%3A%3E1&s=stars&type=Repositories'\n",
    "headers = {'User-Agent': \"Codeup Data Science Student\"}\n",
    "response = get(url,headers)"
   ]
  },
  {
   "cell_type": "code",
   "execution_count": null,
   "metadata": {},
   "outputs": [],
   "source": [
    "soup = BeautifulSoup(response.text)"
   ]
  },
  {
   "cell_type": "code",
   "execution_count": null,
   "metadata": {},
   "outputs": [],
   "source": [
    "repo_list = soup.find('ul',class_='repo-list')"
   ]
  },
  {
   "cell_type": "code",
   "execution_count": null,
   "metadata": {},
   "outputs": [],
   "source": [
    "links = repo_list.find_all(href=True)"
   ]
  },
  {
   "cell_type": "code",
   "execution_count": null,
   "metadata": {},
   "outputs": [],
   "source": [
    "links[0]['href']"
   ]
  },
  {
   "cell_type": "code",
   "execution_count": null,
   "metadata": {},
   "outputs": [],
   "source": [
    "test = links[0:5]"
   ]
  },
  {
   "cell_type": "code",
   "execution_count": null,
   "metadata": {},
   "outputs": [],
   "source": [
    "for index,w in enumerate(links):\n",
    "    print(links[index]['href'])"
   ]
  },
  {
   "cell_type": "code",
   "execution_count": null,
   "metadata": {},
   "outputs": [],
   "source": []
  },
  {
   "cell_type": "code",
   "execution_count": null,
   "metadata": {},
   "outputs": [],
   "source": []
  },
  {
   "cell_type": "code",
   "execution_count": null,
   "metadata": {},
   "outputs": [],
   "source": [
    "x = [link['href'] for link in links if not re.match(r'^/topics',link['href']) and not re.match(r'^https',link['href']) and link['href'].count('/') < 3]"
   ]
  },
  {
   "cell_type": "code",
   "execution_count": null,
   "metadata": {},
   "outputs": [],
   "source": [
    "x"
   ]
  },
  {
   "cell_type": "code",
   "execution_count": null,
   "metadata": {},
   "outputs": [],
   "source": [
    "pages = list(range(1,3))\n",
    "pages"
   ]
  },
  {
   "cell_type": "code",
   "execution_count": null,
   "metadata": {},
   "outputs": [],
   "source": [
    "url = 'https://github.com/search?o=desc&p=2&q=stars%3A%3E1&s=stars&type=Repositories'\n",
    "headers = {'User-Agent': \"Codeup Data Science Student\"}\n",
    "response = get(url,headers)\n",
    "soup = BeautifulSoup(response.text)\n",
    "repo_list = soup.find('ul',class_='repo-list')\n",
    "links = repo_list.find_all(href=True)\n",
    "repo_links = [link['href'] for link in links if not re.match(r'^/topics',link['href'])\\\n",
    "     and not re.match(r'^https',link['href'])\\\n",
    "     and link['href'].count('/') < 3]"
   ]
  },
  {
   "cell_type": "code",
   "execution_count": null,
   "metadata": {},
   "outputs": [],
   "source": [
    "repo_links"
   ]
  },
  {
   "cell_type": "code",
   "execution_count": null,
   "metadata": {},
   "outputs": [],
   "source": [
    "url = f'https://github.com/search?o=desc&p=1&q=stars%3A%3E1&s=stars&type=Repositories'\n",
    "f\"fdsffdsfsdfds{pages[0]}\""
   ]
  },
  {
   "cell_type": "code",
   "execution_count": null,
   "metadata": {},
   "outputs": [],
   "source": [
    "pages = list(range(1,3))\n",
    "page_urls = []\n",
    "for page in pages:\n",
    "    p = f'https://github.com/search?o=desc&p={page}&q=stars%3A%3E1&s=stars&type=Repositories'\n",
    "    page_urls.append(p)\n",
    "    "
   ]
  },
  {
   "cell_type": "code",
   "execution_count": null,
   "metadata": {},
   "outputs": [],
   "source": [
    "page_urls"
   ]
  },
  {
   "cell_type": "code",
   "execution_count": 43,
   "metadata": {},
   "outputs": [],
   "source": [
    "def get_urls(start_page,stop_page):\n",
    "    pages = list(range(start_page,stop_page+1))\n",
    "    page_urls = []\n",
    "    for page in pages:\n",
    "        p = f'https://github.com/search?o=desc&p={page}&q=stars%3A%3E1&s=stars&type=Repositories'\n",
    "        page_urls.append(p)\n",
    "\n",
    "    repo_links_all = []\n",
    "    time.sleep(3)\n",
    "    for page in page_urls:\n",
    "        url = page\n",
    "        headers  = {'User-Agent' : 'Codeup Data Science Student'} #user-agent to decrease chance of being rejected by github\n",
    "        response = get(url,headers)\n",
    "        soup = BeautifulSoup(response.text) #created a BS object\n",
    "        repo_list = soup.find('ul', class_='repo-list') #find section of text of interest\n",
    "        links = repo_list.find_all(href = True) #isolate the 'href's \n",
    "        repo_links= [link['href'] for link in links if not re.match(r'^/topics',link['href']) and not re.match(r'^https',link['href'])\\\n",
    "                 and link['href'].count('/') < 3] #further pare down list by excluding anything that begins with /topics, https or more than 2 forward slashes\n",
    "        repo_links_all.extend(repo_links)\n",
    "    repo_links_all = [url[1:] for url in repo_links_all]\n",
    "    time.sleep(2)\n",
    "    return repo_links_all"
   ]
  },
  {
   "cell_type": "code",
   "execution_count": 12,
   "metadata": {},
   "outputs": [
    {
     "ename": "AttributeError",
     "evalue": "'NoneType' object has no attribute 'find_all'",
     "output_type": "error",
     "traceback": [
      "\u001b[0;31m---------------------------------------------------------------------------\u001b[0m",
      "\u001b[0;31mAttributeError\u001b[0m                            Traceback (most recent call last)",
      "\u001b[0;32m<ipython-input-12-1e9d2f85713f>\u001b[0m in \u001b[0;36m<module>\u001b[0;34m\u001b[0m\n\u001b[0;32m----> 1\u001b[0;31m \u001b[0murls\u001b[0m \u001b[0;34m=\u001b[0m \u001b[0mget_urls\u001b[0m\u001b[0;34m(\u001b[0m\u001b[0;36m1\u001b[0m\u001b[0;34m,\u001b[0m\u001b[0;36m7\u001b[0m\u001b[0;34m)\u001b[0m\u001b[0;34m\u001b[0m\u001b[0;34m\u001b[0m\u001b[0m\n\u001b[0m",
      "\u001b[0;32m<ipython-input-11-2ea391044197>\u001b[0m in \u001b[0;36mget_urls\u001b[0;34m(start_page, stop_page)\u001b[0m\n\u001b[1;32m     14\u001b[0m         \u001b[0msoup\u001b[0m \u001b[0;34m=\u001b[0m \u001b[0mBeautifulSoup\u001b[0m\u001b[0;34m(\u001b[0m\u001b[0mresponse\u001b[0m\u001b[0;34m.\u001b[0m\u001b[0mtext\u001b[0m\u001b[0;34m)\u001b[0m \u001b[0;31m#created a BS object\u001b[0m\u001b[0;34m\u001b[0m\u001b[0;34m\u001b[0m\u001b[0m\n\u001b[1;32m     15\u001b[0m         \u001b[0mrepo_list\u001b[0m \u001b[0;34m=\u001b[0m \u001b[0msoup\u001b[0m\u001b[0;34m.\u001b[0m\u001b[0mfind\u001b[0m\u001b[0;34m(\u001b[0m\u001b[0;34m'ul'\u001b[0m\u001b[0;34m,\u001b[0m \u001b[0mclass_\u001b[0m\u001b[0;34m=\u001b[0m\u001b[0;34m'repo-list'\u001b[0m\u001b[0;34m)\u001b[0m \u001b[0;31m#find section of text of interest\u001b[0m\u001b[0;34m\u001b[0m\u001b[0;34m\u001b[0m\u001b[0m\n\u001b[0;32m---> 16\u001b[0;31m         \u001b[0mlinks\u001b[0m \u001b[0;34m=\u001b[0m \u001b[0mrepo_list\u001b[0m\u001b[0;34m.\u001b[0m\u001b[0mfind_all\u001b[0m\u001b[0;34m(\u001b[0m\u001b[0mhref\u001b[0m \u001b[0;34m=\u001b[0m \u001b[0;32mTrue\u001b[0m\u001b[0;34m)\u001b[0m \u001b[0;31m#isolate the 'href's\u001b[0m\u001b[0;34m\u001b[0m\u001b[0;34m\u001b[0m\u001b[0m\n\u001b[0m\u001b[1;32m     17\u001b[0m         repo_links= [link['href'] for link in links if not re.match(r'^/topics',link['href']) and not re.match(r'^https',link['href'])\\\n\u001b[1;32m     18\u001b[0m                  and link['href'].count('/') < 3] #further pare down list by excluding anything that begins with /topics, https or more than 2 forward slashes\n",
      "\u001b[0;31mAttributeError\u001b[0m: 'NoneType' object has no attribute 'find_all'"
     ]
    }
   ],
   "source": [
    "urls = get_urls(1,7)"
   ]
  },
  {
   "cell_type": "code",
   "execution_count": 53,
   "metadata": {},
   "outputs": [
    {
     "data": {
      "text/plain": [
       "70"
      ]
     },
     "execution_count": 53,
     "metadata": {},
     "output_type": "execute_result"
    }
   ],
   "source": [
    "len(urls)"
   ]
  },
  {
   "cell_type": "code",
   "execution_count": 16,
   "metadata": {},
   "outputs": [],
   "source": [
    "urls2 = get_urls(8,14)"
   ]
  },
  {
   "cell_type": "code",
   "execution_count": 45,
   "metadata": {},
   "outputs": [],
   "source": [
    "urls3 = get_urls(15,22)"
   ]
  },
  {
   "cell_type": "code",
   "execution_count": 59,
   "metadata": {
    "scrolled": false
   },
   "outputs": [],
   "source": [
    "repo_urls = urls + urls2 + urls3"
   ]
  },
  {
   "cell_type": "code",
   "execution_count": 49,
   "metadata": {},
   "outputs": [],
   "source": [
    "repo_urls =  [url[1:] for url in repo_urls]"
   ]
  },
  {
   "cell_type": "code",
   "execution_count": 57,
   "metadata": {},
   "outputs": [],
   "source": [
    "urls = [url[1:] for url in urls]"
   ]
  },
  {
   "cell_type": "code",
   "execution_count": 60,
   "metadata": {},
   "outputs": [
    {
     "data": {
      "text/plain": [
       "['freeCodeCamp/freeCodeCamp',\n",
       " '996icu/996.ICU',\n",
       " 'vuejs/vue',\n",
       " 'facebook/react',\n",
       " 'tensorflow/tensorflow',\n",
       " 'twbs/bootstrap',\n",
       " 'EbookFoundation/free-programming-books',\n",
       " 'sindresorhus/awesome',\n",
       " 'getify/You-Dont-Know-JS',\n",
       " 'ohmyzsh/ohmyzsh',\n",
       " 'jwasham/coding-interview-university',\n",
       " 'github/gitignore',\n",
       " 'kamranahmedse/developer-roadmap',\n",
       " 'airbnb/javascript',\n",
       " 'd3/d3',\n",
       " 'microsoft/vscode',\n",
       " 'CyC2018/CS-Notes',\n",
       " 'torvalds/linux',\n",
       " 'facebook/react-native',\n",
       " 'flutter/flutter',\n",
       " 'electron/electron',\n",
       " 'donnemartin/system-design-primer',\n",
       " 'vinta/awesome-python',\n",
       " 'facebook/create-react-app',\n",
       " 'jackfrued/Python-100-Days',\n",
       " 'axios/axios',\n",
       " 'public-apis/public-apis',\n",
       " 'golang/go',\n",
       " 'jlevy/the-art-of-command-line',\n",
       " 'nodejs/node',\n",
       " 'Snailclimb/JavaGuide',\n",
       " 'TheAlgorithms/Python',\n",
       " 'daneden/animate.css',\n",
       " 'FortAwesome/Font-Awesome',\n",
       " 'kubernetes/kubernetes',\n",
       " 'justjavac/free-programming-books-zh_CN',\n",
       " 'tensorflow/models',\n",
       " 'angular/angular.js',\n",
       " 'ytdl-org/youtube-dl',\n",
       " 'trekhleb/javascript-algorithms',\n",
       " 'mrdoob/three.js',\n",
       " 'danistefanovic/build-your-own-x',\n",
       " 'puppeteer/puppeteer',\n",
       " 'laravel/laravel',\n",
       " 'microsoft/TypeScript',\n",
       " 'moby/moby',\n",
       " 'microsoft/terminal',\n",
       " 'angular/angular',\n",
       " 'ant-design/ant-design',\n",
       " 'iluwatar/java-design-patterns',\n",
       " '30-seconds/30-seconds-of-code',\n",
       " 'mui-org/material-ui',\n",
       " 'jquery/jquery',\n",
       " 'ossu/computer-science',\n",
       " 'webpack/webpack',\n",
       " 'reduxjs/redux',\n",
       " 'nvbn/thefuck',\n",
       " 'vuejs/awesome-vue',\n",
       " 'atom/atom',\n",
       " 'avelino/awesome-go',\n",
       " 'apple/swift',\n",
       " 'hakimel/reveal.js',\n",
       " 'socketio/socket.io',\n",
       " 'pallets/flask',\n",
       " 'Semantic-Org/Semantic-UI',\n",
       " 'expressjs/express',\n",
       " 'PanJiaChen/vue-element-admin',\n",
       " 'chartjs/Chart.js',\n",
       " 'elastic/elasticsearch',\n",
       " 'keras-team/keras',\n",
       " 'django/django',\n",
       " 'MisterBooo/LeetCodeAnimation',\n",
       " 'shadowsocks/shadowsocks-windows',\n",
       " 'chrislgarry/Apollo-11',\n",
       " 'jakubroztocil/httpie',\n",
       " 'rails/rails',\n",
       " 'typicode/json-server',\n",
       " 'spring-projects/spring-boot',\n",
       " 'storybookjs/storybook',\n",
       " 'h5bp/html5-boilerplate',\n",
       " 'netdata/netdata',\n",
       " 'zeit/next.js',\n",
       " 'h5bp/Front-end-Developer-Interview-Questions',\n",
       " 'moment/moment',\n",
       " 'josephmisiti/awesome-machine-learning',\n",
       " 'resume/resume.github.com',\n",
       " 'ElemeFE/element',\n",
       " 'lodash/lodash',\n",
       " 'adam-p/markdown-here',\n",
       " 'tonsky/FiraCode',\n",
       " 'bitcoin/bitcoin',\n",
       " 'meteor/meteor',\n",
       " 'ReactiveX/RxJava',\n",
       " 'rust-lang/rust',\n",
       " 'psf/requests',\n",
       " 'ansible/ansible',\n",
       " 'kdn251/interviews',\n",
       " 'gatsbyjs/gatsby',\n",
       " 'opencv/opencv',\n",
       " 'mtdvio/every-programmer-should-know',\n",
       " 'antirez/redis',\n",
       " 'denoland/deno',\n",
       " 'gohugoio/hugo',\n",
       " 'ionic-team/ionic',\n",
       " 'google/material-design-icons',\n",
       " 'jekyll/jekyll',\n",
       " 'xingshaocheng/architect-awesome',\n",
       " 'awesome-selfhosted/awesome-selfhosted',\n",
       " 'protocolbuffers/protobuf',\n",
       " 'nvm-sh/nvm',\n",
       " 'ReactTraining/react-router',\n",
       " 'scikit-learn/scikit-learn',\n",
       " 'apache/incubator-echarts',\n",
       " 'jgthms/bulma',\n",
       " 'yangshun/tech-interview-handbook',\n",
       " 'yarnpkg/yarn',\n",
       " 'papers-we-love/papers-we-love',\n",
       " 'necolas/normalize.css',\n",
       " 'goldbergyoni/nodebestpractices',\n",
       " 'FreeCodeCampChina/freecodecamp.cn',\n",
       " 'thedaviddias/Front-End-Checklist',\n",
       " 'Dogfalo/materialize',\n",
       " 'wasabeef/awesome-android-ui',\n",
       " 'awesomedata/awesome-public-datasets',\n",
       " 'NARKOZ/hacker-scripts',\n",
       " 'nwjs/nw.js',\n",
       " 'aymericdamien/TensorFlow-Examples',\n",
       " 'scutan90/DeepLearning-500-questions',\n",
       " 'impress/impress.js',\n",
       " 'scrapy/scrapy',\n",
       " 'nodejs/node-v0.x-archive',\n",
       " 'square/okhttp',\n",
       " 'doocs/advanced-java',\n",
       " 'babel/babel',\n",
       " 'google/guava',\n",
       " 'android/architecture-samples',\n",
       " 'prettier/prettier',\n",
       " 'x64dbg/x64dbg',\n",
       " 'enaqx/awesome-react',\n",
       " 'pytorch/pytorch',\n",
       " 'square/retrofit',\n",
       " 'neovim/neovim',\n",
       " 'spring-projects/spring-framework',\n",
       " 'parcel-bundler/parcel',\n",
       " 'kelseyhightower/nocode',\n",
       " 'minimaxir/big-list-of-naughty-strings',\n",
       " 'gothinkster/realworld',\n",
       " 'gin-gonic/gin',\n",
       " 'jaywcjlove/awesome-mac',\n",
       " 'vsouza/awesome-ios',\n",
       " 'sindresorhus/awesome-nodejs',\n",
       " 'juliangarnier/anime',\n",
       " 'serverless/serverless',\n",
       " 'astaxie/build-web-application-with-golang',\n",
       " 'k88hudson/git-flight-rules',\n",
       " 'Hack-with-Github/Awesome-Hacking',\n",
       " 'gogs/gogs',\n",
       " 'Alamofire/Alamofire',\n",
       " 'AFNetworking/AFNetworking',\n",
       " 'grafana/grafana',\n",
       " 'ColorlibHQ/AdminLTE',\n",
       " 'MaximAbramchuck/awesome-interview-questions',\n",
       " 'ziishaned/learn-regex',\n",
       " 'shadowsocks/shadowsocks',\n",
       " 'TryGhost/Ghost',\n",
       " 'zeit/hyper',\n",
       " 'prakhar1989/awesome-courses',\n",
       " 'tesseract-ocr/tesseract',\n",
       " 'gulpjs/gulp',\n",
       " 'google/material-design-lite',\n",
       " 'bailicangdu/vue2-elm',\n",
       " 'Unitech/pm2',\n",
       " 'fatedier/frp',\n",
       " 'adobe/brackets',\n",
       " 'git/git',\n",
       " 'leonardomso/33-js-concepts',\n",
       " 'blueimp/jQuery-File-Upload',\n",
       " 'ageitgey/face_recognition',\n",
       " 'apache/dubbo',\n",
       " 'JetBrains/kotlin',\n",
       " 'home-assistant/home-assistant',\n",
       " 'BVLC/caffe',\n",
       " 'discourse/discourse',\n",
       " 'karan/Projects',\n",
       " 'Trinea/android-open-project',\n",
       " 'sdmg15/Best-websites-a-programmer-should-visit',\n",
       " 'PhilJay/MPAndroidChart',\n",
       " 'tiimgreen/github-cheat-sheet',\n",
       " 'XX-net/XX-Net',\n",
       " 'sahat/hackathon-starter',\n",
       " 'syncthing/syncthing',\n",
       " 'hexojs/hexo',\n",
       " 'ripienaar/free-for-dev',\n",
       " 'mozilla/pdf.js',\n",
       " 'immutable-js/immutable-js',\n",
       " 'justjavac/awesome-wechat-weapp',\n",
       " 'alvarotrigo/fullPage.js',\n",
       " 'facebook/jest',\n",
       " 'soimort/you-get',\n",
       " 'etcd-io/etcd',\n",
       " 'slatedocs/slate',\n",
       " 'foundation/foundation-sites',\n",
       " 'python/cpython',\n",
       " 'prometheus/prometheus',\n",
       " 'koajs/koa',\n",
       " 'pixijs/pixi.js',\n",
       " 'Homebrew/legacy-homebrew',\n",
       " 'bumptech/glide',\n",
       " 'deepfakes/faceswap',\n",
       " 'shadowsocks/shadowsocks-android',\n",
       " 'fastlane/fastlane',\n",
       " 'zenorocha/clipboard.js',\n",
       " 'airbnb/lottie-android',\n",
       " 'tuvtran/project-based-learning',\n",
       " 'jashkenas/backbone',\n",
       " 'sveltejs/svelte',\n",
       " 'algorithm-visualizer/algorithm-visualizer',\n",
       " 'ryanmcdermott/clean-code-javascript',\n",
       " 'exacity/deeplearningbook-chinese',\n",
       " 'Avik-Jain/100-Days-Of-ML-Code']"
      ]
     },
     "execution_count": 60,
     "metadata": {},
     "output_type": "execute_result"
    }
   ],
   "source": [
    "repo_urls"
   ]
  },
  {
   "cell_type": "code",
   "execution_count": null,
   "metadata": {},
   "outputs": [],
   "source": [
    "url = 'https://github.com/search?p=2&q=stars%3A%3E0&s=stars&type=Repositories' #page 1 of repository of interest (star)\n",
    "headers  = {'User-Agent' : 'Codeup Data Science Student'} #user-agent to decrease chance of being rejected by github\n",
    "response = get(url,headers)\n",
    "soup = BeautifulSoup(response.text) #created a BS object\n",
    "repo_list = soup.find('ul', class_='repo-list') #find section of text of interest\n",
    "links = repo_list.find_all(href = True) #isolate the 'href's \n",
    "repo_links= [link['href'] for link in links if not re.match(r'^/topics',link['href']) and not re.match(r'^https',link['href'])\\\n",
    "         and link['href'].count('/') < 3] #further pare down list by excluding anything that begins with /topics, https or more than 2 forward slashes"
   ]
  },
  {
   "cell_type": "code",
   "execution_count": null,
   "metadata": {},
   "outputs": [],
   "source": [
    "urls = urls.extend(urls2)"
   ]
  },
  {
   "cell_type": "code",
   "execution_count": null,
   "metadata": {},
   "outputs": [],
   "source": [
    "url = \"https://github.com/vuejs/vue\"\n",
    "headers  = {'User-Agent' : 'Codeup Data Science Student'} #user-agent to decrease chance of being rejected by github\n",
    "response = get(url,headers)\n",
    "soup = BeautifulSoup(response.text) #created a BS object\n",
    "repo_list = soup.find('ul', class_='repo-list') #find section of text of interest\n",
    "links = repo_list.find_all(href = True) #isolate the 'href's \n",
    "repo_links= [link['href'] for link in links if not re.match(r'^/topics',link['href']) and not re.match(r'^https',link['href'])\\\n",
    "         and link['href'].count('/') < 3] #further pare down list by excluding anything that begins with /topics, https or more than 2 forward slashes\n",
    "repo_links_all.extend(repo_links)\n",
    "return repo_links_all"
   ]
  },
  {
   "cell_type": "code",
   "execution_count": null,
   "metadata": {},
   "outputs": [],
   "source": [
    "url = \"https://github.com/Zillow-SJ/Cluster_Zillow\"\n",
    "headers  = {'User-Agent' : 'Codeup Data Science Student'} #user-agent to decrease chance of being rejected by github\n",
    "response = get(url,headers)\n",
    "soup = BeautifulSoup(response.text) #created a BS object\n",
    "readme_url = soup.find('a',title='README.md')['href']\n",
    "readme_url = f'https://github.com{readme_url}'\n",
    "response2 = get(readme_url,headers)\n",
    "soup2 = BeautifulSoup(response2.text)"
   ]
  },
  {
   "cell_type": "code",
   "execution_count": null,
   "metadata": {},
   "outputs": [],
   "source": [
    "urls2 = [url[1:] for url in urls2]"
   ]
  },
  {
   "cell_type": "code",
   "execution_count": null,
   "metadata": {},
   "outputs": [],
   "source": [
    "\n",
    "\n",
    "\"\"\"\n",
    "A module for obtaining repo readme and language data from the github API.\n",
    "\n",
    "Before using this module, read through it, and follow the instructions marked\n",
    "TODO.\n",
    "\n",
    "After doing so, run it like this:\n",
    "\n",
    "    python acquire.py\n",
    "\n",
    "To create the `data.json` file that contains the data.\n",
    "\"\"\"\n",
    "import os\n",
    "import json\n",
    "from typing import Dict, List\n",
    "import requests\n",
    "\n",
    "from env import github_token\n",
    "\n",
    "# TODO: Make a github personal access token.\n",
    "#     1. Go here and generate a personal access token https://github.com/settings/tokens\n",
    "#     2. Save it in your env.py file under the variable `github_token`\n",
    "# TODO: Replace YOUR_GITHUB_USERNAME below with your github username.\n",
    "# TODO: Add more repositories to the `repos` list.\n",
    "\n",
    "repos = repo_urls\n",
    "\n",
    "headers = {\n",
    "    \"Authorization\": f\"token {github_token}\",\n",
    "    \"User-Agent\": \"JefferyRoeder\",\n",
    "}\n",
    "\n",
    "if (\n",
    "    headers[\"Authorization\"] == \"token \"\n",
    "    or headers[\"User-Agent\"] == \"YOUR_GITHUB_USERNAME\"\n",
    "):\n",
    "    raise Exception(\n",
    "        \"You need to follow the instructions marked TODO in this script before trying to use it\"\n",
    "    )\n",
    "\n",
    "\n",
    "def github_api_request(url: str) -> requests.Response:\n",
    "    return requests.get(url, headers=headers)\n",
    "\n",
    "\n",
    "def get_repo_language(repo: str) -> str:\n",
    "    url = f\"https://api.github.com/repos/{repo}\"\n",
    "    return github_api_request(url).json()[\"language\"]\n",
    "\n",
    "\n",
    "def get_repo_contents(repo: str) -> List[Dict[str, str]]:\n",
    "    url = f\"https://api.github.com/repos/{repo}/contents/\"\n",
    "    return github_api_request(url).json()\n",
    "\n",
    "\n",
    "def get_readme_download_url(files: List[Dict[str, str]]) -> str:\n",
    "    \"\"\"\n",
    "    Takes in a response from the github api that lists\n",
    "    the files in a repo and returns the url that can be\n",
    "    used to download the repo's README file.\n",
    "    \"\"\"\n",
    "    for file in files:\n",
    "        if file[\"name\"].lower().startswith(\"readme\"):\n",
    "            return file[\"download_url\"]\n",
    "\n",
    "\n",
    "def process_repo(repo: str) -> Dict[str, str]:\n",
    "    \"\"\"\n",
    "    Takes a repo name like \"gocodeup/codeup-setup-script\" and returns\n",
    "    a dictionary with the language of the repo and the readme contents.\n",
    "    \"\"\"\n",
    "    contents = get_repo_contents(repo)\n",
    "    return {\n",
    "        \"repo\": repo,\n",
    "        \"language\": get_repo_language(repo),\n",
    "        \"readme_contents\": requests.get(get_readme_download_url(contents)).text,\n",
    "    }\n",
    "\n",
    "\n",
    "def scrape_github_data():\n",
    "    \"\"\"\n",
    "    Loop through all of the repos and process them. Saves the data in\n",
    "    `data.json`.\n",
    "    \"\"\"\n",
    "    data = [process_repo(repo) for repo in repos]\n",
    "    json.dump(data, open(\"data.json\", \"w\"))\n",
    "\n",
    "\n",
    "\n",
    "x = scrape_github_data()"
   ]
  },
  {
   "cell_type": "code",
   "execution_count": null,
   "metadata": {},
   "outputs": [],
   "source": []
  },
  {
   "cell_type": "code",
   "execution_count": null,
   "metadata": {},
   "outputs": [],
   "source": [
    "df = pd.read_json('data.json')"
   ]
  },
  {
   "cell_type": "code",
   "execution_count": null,
   "metadata": {},
   "outputs": [],
   "source": [
    "df"
   ]
  },
  {
   "cell_type": "code",
   "execution_count": null,
   "metadata": {},
   "outputs": [],
   "source": []
  }
 ],
 "metadata": {
  "kernelspec": {
   "display_name": "Python 3",
   "language": "python",
   "name": "python3"
  },
  "language_info": {
   "codemirror_mode": {
    "name": "ipython",
    "version": 3
   },
   "file_extension": ".py",
   "mimetype": "text/x-python",
   "name": "python",
   "nbconvert_exporter": "python",
   "pygments_lexer": "ipython3",
   "version": "3.7.3"
  }
 },
 "nbformat": 4,
 "nbformat_minor": 2
}
